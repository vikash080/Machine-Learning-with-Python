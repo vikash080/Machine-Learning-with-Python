{
 "cells": [
  {
   "cell_type": "markdown",
   "id": "970a702d",
   "metadata": {},
   "source": [
    "# Polynomial Regression Implementation"
   ]
  },
  {
   "cell_type": "code",
   "execution_count": 12,
   "id": "5abd334e",
   "metadata": {},
   "outputs": [],
   "source": [
    "#import requried lib\n",
    "import numpy as np\n",
    "import pandas as pd \n",
    "import matplotlib.pyplot as plt\n",
    "import seaborn as sns\n",
    "import sklearn \n"
   ]
  },
  {
   "cell_type": "code",
   "execution_count": 13,
   "id": "424c455a",
   "metadata": {},
   "outputs": [
    {
     "data": {
      "text/html": [
       "<div>\n",
       "<style scoped>\n",
       "    .dataframe tbody tr th:only-of-type {\n",
       "        vertical-align: middle;\n",
       "    }\n",
       "\n",
       "    .dataframe tbody tr th {\n",
       "        vertical-align: top;\n",
       "    }\n",
       "\n",
       "    .dataframe thead th {\n",
       "        text-align: right;\n",
       "    }\n",
       "</style>\n",
       "<table border=\"1\" class=\"dataframe\">\n",
       "  <thead>\n",
       "    <tr style=\"text-align: right;\">\n",
       "      <th></th>\n",
       "      <th>Age</th>\n",
       "      <th>Claim per policy</th>\n",
       "    </tr>\n",
       "  </thead>\n",
       "  <tbody>\n",
       "    <tr>\n",
       "      <th>0</th>\n",
       "      <td>15</td>\n",
       "      <td>31177</td>\n",
       "    </tr>\n",
       "    <tr>\n",
       "      <th>1</th>\n",
       "      <td>20</td>\n",
       "      <td>34086</td>\n",
       "    </tr>\n",
       "    <tr>\n",
       "      <th>2</th>\n",
       "      <td>25</td>\n",
       "      <td>36867</td>\n",
       "    </tr>\n",
       "    <tr>\n",
       "      <th>3</th>\n",
       "      <td>30</td>\n",
       "      <td>42452</td>\n",
       "    </tr>\n",
       "    <tr>\n",
       "      <th>4</th>\n",
       "      <td>35</td>\n",
       "      <td>44681</td>\n",
       "    </tr>\n",
       "    <tr>\n",
       "      <th>5</th>\n",
       "      <td>40</td>\n",
       "      <td>46986</td>\n",
       "    </tr>\n",
       "    <tr>\n",
       "      <th>6</th>\n",
       "      <td>45</td>\n",
       "      <td>46033</td>\n",
       "    </tr>\n",
       "    <tr>\n",
       "      <th>7</th>\n",
       "      <td>50</td>\n",
       "      <td>47341</td>\n",
       "    </tr>\n",
       "    <tr>\n",
       "      <th>8</th>\n",
       "      <td>55</td>\n",
       "      <td>48762</td>\n",
       "    </tr>\n",
       "    <tr>\n",
       "      <th>9</th>\n",
       "      <td>60</td>\n",
       "      <td>52408</td>\n",
       "    </tr>\n",
       "    <tr>\n",
       "      <th>10</th>\n",
       "      <td>65</td>\n",
       "      <td>58741</td>\n",
       "    </tr>\n",
       "    <tr>\n",
       "      <th>11</th>\n",
       "      <td>70</td>\n",
       "      <td>75856</td>\n",
       "    </tr>\n",
       "  </tbody>\n",
       "</table>\n",
       "</div>"
      ],
      "text/plain": [
       "    Age  Claim per policy\n",
       "0    15             31177\n",
       "1    20             34086\n",
       "2    25             36867\n",
       "3    30             42452\n",
       "4    35             44681\n",
       "5    40             46986\n",
       "6    45             46033\n",
       "7    50             47341\n",
       "8    55             48762\n",
       "9    60             52408\n",
       "10   65             58741\n",
       "11   70             75856"
      ]
     },
     "execution_count": 13,
     "metadata": {},
     "output_type": "execute_result"
    }
   ],
   "source": [
    "#Load data set\n",
    "data = pd.read_csv('claim_per_policy.csv')\n",
    "data"
   ]
  },
  {
   "cell_type": "code",
   "execution_count": 14,
   "id": "45ae4057",
   "metadata": {},
   "outputs": [
    {
     "name": "stdout",
     "output_type": "stream",
     "text": [
      "<class 'numpy.ndarray'> <class 'numpy.ndarray'>\n"
     ]
    }
   ],
   "source": [
    "x = data.iloc[:,:-1].values\n",
    "y = data.iloc[:,-1:].values\n",
    "\n",
    "print(type(x),type(y))"
   ]
  },
  {
   "cell_type": "code",
   "execution_count": 15,
   "id": "8d66f1ea",
   "metadata": {},
   "outputs": [
    {
     "name": "stdout",
     "output_type": "stream",
     "text": [
      "<class 'pandas.core.series.Series'> <class 'pandas.core.series.Series'>\n"
     ]
    }
   ],
   "source": [
    "a = data.Age\n",
    "b = data['Claim per policy']\n",
    "print(type(a),type(b))"
   ]
  },
  {
   "cell_type": "code",
   "execution_count": 16,
   "id": "eed6da84",
   "metadata": {},
   "outputs": [
    {
     "data": {
      "image/png": "[encoded data removed]",
      "text/plain": [
       "<Figure size 640x480 with 1 Axes>"
      ]
     },
     "metadata": {},
     "output_type": "display_data"
    }
   ],
   "source": [
    "#visualize dataset\n",
    "plt.scatter(x,y)\n",
    "plt.title('Claim per Policy')\n",
    "plt.xlabel('Age')\n",
    "plt.ylabel('Claim Amount')\n",
    "plt.show()"
   ]
  },
  {
   "cell_type": "markdown",
   "id": "3aa23373",
   "metadata": {},
   "source": [
    "# Build base regression model"
   ]
  },
  {
   "cell_type": "code",
   "execution_count": 48,
   "id": "843710e4",
   "metadata": {},
   "outputs": [
    {
     "name": "stdout",
     "output_type": "stream",
     "text": [
      "Cofficient:   [[601.90769231]]\n",
      "\n",
      "Intercept:\t [21534.75641026]\n"
     ]
    }
   ],
   "source": [
    " #Simpole Linear regression for the entire dataset (for comparision)\n",
    "from sklearn.linear_model import LinearRegression\n",
    "base_reg = LinearRegression()\n",
    "base_reg.fit(x,y)\n",
    "print(\"Cofficient:  \",base_reg.coef_)\n",
    "print()\n",
    "print('Intercept:\\t',base_reg.intercept_)"
   ]
  },
  {
   "cell_type": "markdown",
   "id": "d0c9fd18",
   "metadata": {},
   "source": [
    "# Polynomial based linear regression"
   ]
  },
  {
   "cell_type": "code",
   "execution_count": 49,
   "id": "f6f6f8bf",
   "metadata": {},
   "outputs": [
    {
     "name": "stdout",
     "output_type": "stream",
     "text": [
      "Cofficient:   [[  0.         -95.94485514   8.21002997]]\n",
      "\n",
      "Intercept:\t [33918.21828172]\n"
     ]
    }
   ],
   "source": [
    "from sklearn.preprocessing import PolynomialFeatures\n",
    "from sklearn.linear_model import LinearRegression\n",
    "poly_features = PolynomialFeatures(degree= 2)\n",
    "x_poly = poly_features.fit_transform(x)\n",
    "y_poly = poly_features.fit_transform(y)\n",
    "\n",
    "#call l;inear regression and agign to poly_reg variable\n",
    "poly_reg=LinearRegression()\n",
    "poly_reg.fit(x_poly,y)\n",
    "print(\"Cofficient:  \",poly_reg.coef_)\n",
    "print()\n",
    "print('Intercept:\\t',poly_reg.intercept_)"
   ]
  },
  {
   "cell_type": "code",
   "execution_count": 50,
   "id": "dadae2e2",
   "metadata": {},
   "outputs": [
    {
     "data": {
      "text/plain": [
       "array([[15],\n",
       "       [20],\n",
       "       [25],\n",
       "       [30],\n",
       "       [35],\n",
       "       [40],\n",
       "       [45],\n",
       "       [50],\n",
       "       [55],\n",
       "       [60],\n",
       "       [65],\n",
       "       [70]], dtype=int64)"
      ]
     },
     "execution_count": 50,
     "metadata": {},
     "output_type": "execute_result"
    }
   ],
   "source": [
    "x"
   ]
  },
  {
   "cell_type": "code",
   "execution_count": 51,
   "id": "9b8bb2a6",
   "metadata": {},
   "outputs": [
    {
     "data": {
      "text/plain": [
       "array([[31177],\n",
       "       [34086],\n",
       "       [36867],\n",
       "       [42452],\n",
       "       [44681],\n",
       "       [46986],\n",
       "       [46033],\n",
       "       [47341],\n",
       "       [48762],\n",
       "       [52408],\n",
       "       [58741],\n",
       "       [75856]], dtype=int64)"
      ]
     },
     "execution_count": 51,
     "metadata": {},
     "output_type": "execute_result"
    }
   ],
   "source": [
    "y"
   ]
  },
  {
   "cell_type": "code",
   "execution_count": 52,
   "id": "e091a043",
   "metadata": {},
   "outputs": [
    {
     "data": {
      "text/plain": [
       "array([[1.000e+00, 1.500e+01, 2.250e+02],\n",
       "       [1.000e+00, 2.000e+01, 4.000e+02],\n",
       "       [1.000e+00, 2.500e+01, 6.250e+02],\n",
       "       [1.000e+00, 3.000e+01, 9.000e+02],\n",
       "       [1.000e+00, 3.500e+01, 1.225e+03],\n",
       "       [1.000e+00, 4.000e+01, 1.600e+03],\n",
       "       [1.000e+00, 4.500e+01, 2.025e+03],\n",
       "       [1.000e+00, 5.000e+01, 2.500e+03],\n",
       "       [1.000e+00, 5.500e+01, 3.025e+03],\n",
       "       [1.000e+00, 6.000e+01, 3.600e+03],\n",
       "       [1.000e+00, 6.500e+01, 4.225e+03],\n",
       "       [1.000e+00, 7.000e+01, 4.900e+03]])"
      ]
     },
     "execution_count": 52,
     "metadata": {},
     "output_type": "execute_result"
    }
   ],
   "source": [
    "x_poly\n"
   ]
  },
  {
   "cell_type": "code",
   "execution_count": 53,
   "id": "ec097663",
   "metadata": {},
   "outputs": [
    {
     "data": {
      "text/plain": [
       "(12, 3)"
      ]
     },
     "execution_count": 53,
     "metadata": {},
     "output_type": "execute_result"
    }
   ],
   "source": [
    "x_poly.shape"
   ]
  },
  {
   "cell_type": "code",
   "execution_count": 54,
   "id": "3798753f",
   "metadata": {},
   "outputs": [
    {
     "data": {
      "image/png": "[encoded data removed]",
      "text/plain": [
       "<Figure size 640x480 with 1 Axes>"
      ]
     },
     "metadata": {},
     "output_type": "display_data"
    }
   ],
   "source": [
    "#visualize dataset\n",
    "plt.scatter(x,y)\n",
    "plt.plot(x,poly_reg.predict(x_poly),color='green')\n",
    "plt.title('Claim per Policy-Policy-Polynomial based regression')\n",
    "plt.xlabel('Age')\n",
    "plt.ylabel('Claim Amount')\n",
    "plt.show()"
   ]
  },
  {
   "cell_type": "code",
   "execution_count": 55,
   "id": "d2a37a23",
   "metadata": {},
   "outputs": [
    {
     "name": "stdout",
     "output_type": "stream",
     "text": [
      "Cofficient:   [[ 0.00000000e+00 -3.41993985e+03  2.01152658e+02 -3.84457571e+00\n",
      "   1.99421971e-02  7.14358721e-05]]\n",
      "\n",
      "Intercept:\t [49119.50741093]\n"
     ]
    },
    {
     "data": {
      "image/png": "[encoded data removed]",
      "text/plain": [
       "<Figure size 640x480 with 1 Axes>"
      ]
     },
     "metadata": {},
     "output_type": "display_data"
    }
   ],
   "source": [
    "from sklearn.preprocessing import PolynomialFeatures\n",
    "from sklearn.linear_model import LinearRegression\n",
    "poly_features = PolynomialFeatures(degree= 5)\n",
    "x_poly = poly_features.fit_transform(x)\n",
    "y_poly = poly_features.fit_transform(y)\n",
    "\n",
    "#call l;inear regression and agign to poly_reg variable\n",
    "poly_reg=LinearRegression()\n",
    "poly_reg.fit(x_poly,y)\n",
    "print(\"Cofficient:  \",poly_reg.coef_)\n",
    "print()\n",
    "print('Intercept:\\t',poly_reg.intercept_)\n",
    "\n",
    "#visualize dataset\n",
    "plt.scatter(x,y)\n",
    "plt.plot(x,poly_reg.predict(x_poly),color='red')\n",
    "plt.title('Claim per Policy-Polynomial based regression')\n",
    "plt.xlabel('Age')\n",
    "plt.ylabel('Claim Amount')\n",
    "plt.show()"
   ]
  },
  {
   "cell_type": "markdown",
   "id": "f0783b30",
   "metadata": {},
   "source": [
    "# Predict with Polynomial regression for any Age"
   ]
  },
  {
   "cell_type": "code",
   "execution_count": 56,
   "id": "ae3b93e6",
   "metadata": {},
   "outputs": [
    {
     "name": "stdout",
     "output_type": "stream",
     "text": [
      "Age p1:67\n",
      "\n",
      "Predicted Claim Amout:\t [[64956.68254429]]\n"
     ]
    }
   ],
   "source": [
    "poly_pred = poly_reg.predict(poly_features.fit_transform(np.array([[int(input('Age p1:'))]])))\n",
    "print()\n",
    "print('Predicted Claim Amout:\\t',poly_pred)"
   ]
  },
  {
   "cell_type": "code",
   "execution_count": 57,
   "id": "5928f7b8",
   "metadata": {},
   "outputs": [
    {
     "name": "stdout",
     "output_type": "stream",
     "text": [
      "Age :\t67\n",
      "\n",
      "Predicted claim amouint by bse regression;\t [[61862.57179487]]\n"
     ]
    }
   ],
   "source": [
    "base_pred=base_reg.predict(np.array([[int(input('Age :\\t'))]]))\n",
    "print()\n",
    "print('Predicted claim amouint by bse regression;\\t',base_pred)"
   ]
  },
  {
   "cell_type": "code",
   "execution_count": null,
   "id": "ac6d9b50",
   "metadata": {},
   "outputs": [],
   "source": []
  },
  {
   "cell_type": "code",
   "execution_count": null,
   "id": "bcb1c1b8",
   "metadata": {},
   "outputs": [],
   "source": []
  }
 ],
 "metadata": {
  "kernelspec": {
   "display_name": "Python 3 (ipykernel)",
   "language": "python",
   "name": "python3"
  },
  "language_info": {
   "codemirror_mode": {
    "name": "ipython",
    "version": 3
   },
   "file_extension": ".py",
   "mimetype": "text/x-python",
   "name": "python",
   "nbconvert_exporter": "python",
   "pygments_lexer": "ipython3",
   "version": "3.11.4"
  }
 },
 "nbformat": 4,
 "nbformat_minor": 5
}
