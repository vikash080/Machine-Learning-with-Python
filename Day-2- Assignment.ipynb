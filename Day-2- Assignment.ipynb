{
 "cells": [
  {
   "cell_type": "code",
   "execution_count": 1,
   "id": "7118df09",
   "metadata": {},
   "outputs": [],
   "source": [
    "#import requried lib\n",
    "import numpy as np\n",
    "import pandas as pd \n",
    "import matplotlib.pyplot as plt\n",
    "import seaborn as sns\n",
    "import sklearn \n"
   ]
  },
  {
   "cell_type": "code",
   "execution_count": 10,
   "id": "105c476b",
   "metadata": {},
   "outputs": [],
   "source": [
    "from sklearn.datasets import load_wine\n",
    "from sklearn.model_selection import train_test_split \n",
    "from sklearn.linear_model import LinearRegression \n",
    "from sklearn.linear_model import Ridge \n",
    "from sklearn.linear_model import Lasso"
   ]
  },
  {
   "cell_type": "code",
   "execution_count": 15,
   "id": "283e3252",
   "metadata": {},
   "outputs": [
    {
     "data": {
      "text/html": [
       "<div>\n",
       "<style scoped>\n",
       "    .dataframe tbody tr th:only-of-type {\n",
       "        vertical-align: middle;\n",
       "    }\n",
       "\n",
       "    .dataframe tbody tr th {\n",
       "        vertical-align: top;\n",
       "    }\n",
       "\n",
       "    .dataframe thead th {\n",
       "        text-align: right;\n",
       "    }\n",
       "</style>\n",
       "<table border=\"1\" class=\"dataframe\">\n",
       "  <thead>\n",
       "    <tr style=\"text-align: right;\">\n",
       "      <th></th>\n",
       "      <th>alcohol</th>\n",
       "      <th>malic_acid</th>\n",
       "      <th>ash</th>\n",
       "      <th>alcalinity_of_ash</th>\n",
       "      <th>magnesium</th>\n",
       "      <th>total_phenols</th>\n",
       "      <th>flavanoids</th>\n",
       "      <th>nonflavanoid_phenols</th>\n",
       "      <th>proanthocyanins</th>\n",
       "      <th>color_intensity</th>\n",
       "      <th>hue</th>\n",
       "      <th>od280/od315_of_diluted_wines</th>\n",
       "      <th>proline</th>\n",
       "    </tr>\n",
       "  </thead>\n",
       "  <tbody>\n",
       "    <tr>\n",
       "      <th>0</th>\n",
       "      <td>0</td>\n",
       "      <td>1.71</td>\n",
       "      <td>2.43</td>\n",
       "      <td>15.6</td>\n",
       "      <td>127.0</td>\n",
       "      <td>2.80</td>\n",
       "      <td>3.06</td>\n",
       "      <td>0.28</td>\n",
       "      <td>2.29</td>\n",
       "      <td>5.64</td>\n",
       "      <td>1.04</td>\n",
       "      <td>3.92</td>\n",
       "      <td>1065.0</td>\n",
       "    </tr>\n",
       "    <tr>\n",
       "      <th>1</th>\n",
       "      <td>0</td>\n",
       "      <td>1.78</td>\n",
       "      <td>2.14</td>\n",
       "      <td>11.2</td>\n",
       "      <td>100.0</td>\n",
       "      <td>2.65</td>\n",
       "      <td>2.76</td>\n",
       "      <td>0.26</td>\n",
       "      <td>1.28</td>\n",
       "      <td>4.38</td>\n",
       "      <td>1.05</td>\n",
       "      <td>3.40</td>\n",
       "      <td>1050.0</td>\n",
       "    </tr>\n",
       "    <tr>\n",
       "      <th>2</th>\n",
       "      <td>0</td>\n",
       "      <td>2.36</td>\n",
       "      <td>2.67</td>\n",
       "      <td>18.6</td>\n",
       "      <td>101.0</td>\n",
       "      <td>2.80</td>\n",
       "      <td>3.24</td>\n",
       "      <td>0.30</td>\n",
       "      <td>2.81</td>\n",
       "      <td>5.68</td>\n",
       "      <td>1.03</td>\n",
       "      <td>3.17</td>\n",
       "      <td>1185.0</td>\n",
       "    </tr>\n",
       "    <tr>\n",
       "      <th>3</th>\n",
       "      <td>0</td>\n",
       "      <td>1.95</td>\n",
       "      <td>2.50</td>\n",
       "      <td>16.8</td>\n",
       "      <td>113.0</td>\n",
       "      <td>3.85</td>\n",
       "      <td>3.49</td>\n",
       "      <td>0.24</td>\n",
       "      <td>2.18</td>\n",
       "      <td>7.80</td>\n",
       "      <td>0.86</td>\n",
       "      <td>3.45</td>\n",
       "      <td>1480.0</td>\n",
       "    </tr>\n",
       "    <tr>\n",
       "      <th>4</th>\n",
       "      <td>0</td>\n",
       "      <td>2.59</td>\n",
       "      <td>2.87</td>\n",
       "      <td>21.0</td>\n",
       "      <td>118.0</td>\n",
       "      <td>2.80</td>\n",
       "      <td>2.69</td>\n",
       "      <td>0.39</td>\n",
       "      <td>1.82</td>\n",
       "      <td>4.32</td>\n",
       "      <td>1.04</td>\n",
       "      <td>2.93</td>\n",
       "      <td>735.0</td>\n",
       "    </tr>\n",
       "  </tbody>\n",
       "</table>\n",
       "</div>"
      ],
      "text/plain": [
       "   alcohol  malic_acid   ash  alcalinity_of_ash  magnesium  total_phenols  \\\n",
       "0        0        1.71  2.43               15.6      127.0           2.80   \n",
       "1        0        1.78  2.14               11.2      100.0           2.65   \n",
       "2        0        2.36  2.67               18.6      101.0           2.80   \n",
       "3        0        1.95  2.50               16.8      113.0           3.85   \n",
       "4        0        2.59  2.87               21.0      118.0           2.80   \n",
       "\n",
       "   flavanoids  nonflavanoid_phenols  proanthocyanins  color_intensity   hue  \\\n",
       "0        3.06                  0.28             2.29             5.64  1.04   \n",
       "1        2.76                  0.26             1.28             4.38  1.05   \n",
       "2        3.24                  0.30             2.81             5.68  1.03   \n",
       "3        3.49                  0.24             2.18             7.80  0.86   \n",
       "4        2.69                  0.39             1.82             4.32  1.04   \n",
       "\n",
       "   od280/od315_of_diluted_wines  proline  \n",
       "0                          3.92   1065.0  \n",
       "1                          3.40   1050.0  \n",
       "2                          3.17   1185.0  \n",
       "3                          3.45   1480.0  \n",
       "4                          2.93    735.0  "
      ]
     },
     "execution_count": 15,
     "metadata": {},
     "output_type": "execute_result"
    }
   ],
   "source": [
    "wine=load_wine()\n",
    "df=pd.DataFrame(wine.data,columns=wine.feature_names)\n",
    "df['alcohol']=wine.target\n",
    "df.head()"
   ]
  },
  {
   "cell_type": "code",
   "execution_count": 16,
   "id": "2129bbfb",
   "metadata": {},
   "outputs": [],
   "source": [
    "x = df.drop('alcohol',axis=1)\n",
    "y= df['alcohol']"
   ]
  },
  {
   "cell_type": "code",
   "execution_count": 17,
   "id": "a8506411",
   "metadata": {},
   "outputs": [
    {
     "data": {
      "text/plain": [
       "array([[<Axes: title={'center': 'alcohol'}>,\n",
       "        <Axes: title={'center': 'malic_acid'}>,\n",
       "        <Axes: title={'center': 'ash'}>,\n",
       "        <Axes: title={'center': 'alcalinity_of_ash'}>],\n",
       "       [<Axes: title={'center': 'magnesium'}>,\n",
       "        <Axes: title={'center': 'total_phenols'}>,\n",
       "        <Axes: title={'center': 'flavanoids'}>,\n",
       "        <Axes: title={'center': 'nonflavanoid_phenols'}>],\n",
       "       [<Axes: title={'center': 'proanthocyanins'}>,\n",
       "        <Axes: title={'center': 'color_intensity'}>,\n",
       "        <Axes: title={'center': 'hue'}>,\n",
       "        <Axes: title={'center': 'od280/od315_of_diluted_wines'}>],\n",
       "       [<Axes: title={'center': 'proline'}>, <Axes: >, <Axes: >,\n",
       "        <Axes: >]], dtype=object)"
      ]
     },
     "execution_count": 17,
     "metadata": {},
     "output_type": "execute_result"
    },
    {
     "data": {
      "image/png": "[encoded data removed]",
      "text/plain": [
       "<Figure size 1200x1000 with 16 Axes>"
      ]
     },
     "metadata": {},
     "output_type": "display_data"
    }
   ],
   "source": [
    "df.hist(figsize=(12,10))"
   ]
  },
  {
   "cell_type": "markdown",
   "id": "649256cd",
   "metadata": {},
   "source": [
    "# Ridge Regression"
   ]
  },
  {
   "cell_type": "code",
   "execution_count": 18,
   "id": "f884c593",
   "metadata": {},
   "outputs": [
    {
     "name": "stdout",
     "output_type": "stream",
     "text": [
      "45 45\n"
     ]
    }
   ],
   "source": [
    "xtrain,xtest,ytrain,ytest =train_test_split(x,y,test_size=0.25,random_state =2)\n",
    "print(len(xtest) , len(ytest))"
   ]
  },
  {
   "cell_type": "code",
   "execution_count": 19,
   "id": "b4482a7e",
   "metadata": {},
   "outputs": [
    {
     "name": "stdout",
     "output_type": "stream",
     "text": [
      "**************base regression************\n",
      "\n",
      "Training Started\n",
      "\n",
      "Bases Train_score: \t 0.8896349585462786\n",
      "\n",
      "Bases Test_score: \t 0.8848276776325554\n",
      "\n",
      "R-Square:\t 0.8848276776325554\n"
     ]
    }
   ],
   "source": [
    "#build Base regression model\n",
    "base_reg = LinearRegression()\n",
    "print('**************base regression************')\n",
    "print()\n",
    "print('Training Started')\n",
    "base_reg.fit(xtrain,ytrain)\n",
    "print()\n",
    "base_pred=base_reg.predict(xtest)\n",
    "\n",
    "#Preformance Matrics\n",
    "\n",
    "from sklearn.metrics import r2_score\n",
    "print('Bases Train_score: \\t' ,base_reg.score(xtrain,ytrain))\n",
    "print()\n",
    "print('Bases Test_score: \\t' ,base_reg.score(xtest,ytest))\n",
    "print()\n",
    "print('R-Square:\\t',r2_score(ytest,base_pred))"
   ]
  },
  {
   "cell_type": "code",
   "execution_count": 20,
   "id": "cd30fd45",
   "metadata": {},
   "outputs": [
    {
     "name": "stdout",
     "output_type": "stream",
     "text": [
      "**************Ridge Regression Model*******\n",
      "Ridge Train_score:\t 0.8896348896153979\n",
      "\n",
      "Ridge Test_score:\t 0.8848266510933418\n",
      "\n",
      "Ridge R-Square:\t 0.8848266510933418\n"
     ]
    }
   ],
   "source": [
    "#Build Ridge model\n",
    "print('**************Ridge Regression Model*******')\n",
    "rr= Ridge(alpha=0.01)\n",
    "rr.fit(xtrain,ytrain)\n",
    "rr_pred=rr.predict(xtest)\n",
    "print('Ridge Train_score:\\t',rr.score(xtrain,ytrain))\n",
    "print()\n",
    "print('Ridge Test_score:\\t',rr.score(xtest,ytest))\n",
    "print()\n",
    "print('Ridge R-Square:\\t',r2_score(ytest,rr_pred))"
   ]
  },
  {
   "cell_type": "code",
   "execution_count": 21,
   "id": "52476702",
   "metadata": {},
   "outputs": [
    {
     "name": "stdout",
     "output_type": "stream",
     "text": [
      "**************Ridge Regression Model*******\n",
      "Ridge Train_score:\t 0.8408161898769179\n",
      "\n",
      "Ridge Test_score:\t 0.8408077421750565\n",
      "\n",
      "Ridge R-Square:\t 0.8408077421750565\n"
     ]
    }
   ],
   "source": [
    "#Build Ridge model with 100\n",
    "print('**************Ridge Regression Model*******')\n",
    "rr100= Ridge(alpha=100)\n",
    "rr100.fit(xtrain,ytrain)\n",
    "rr100_pred=rr100.predict(xtest)\n",
    "print('Ridge Train_score:\\t',rr100.score(xtrain,ytrain))\n",
    "print()\n",
    "print('Ridge Test_score:\\t',rr100.score(xtest,ytest))\n",
    "print()\n",
    "print('Ridge R-Square:\\t',r2_score(ytest,rr100_pred))"
   ]
  },
  {
   "cell_type": "markdown",
   "id": "3d99bff0",
   "metadata": {},
   "source": [
    "# Lasso Regression"
   ]
  },
  {
   "cell_type": "code",
   "execution_count": 22,
   "id": "bf3ce2ad",
   "metadata": {},
   "outputs": [],
   "source": [
    "from sklearn.datasets import load_boston\n",
    "from sklearn.model_selection import train_test_split \n",
    "from sklearn.linear_model import LinearRegression \n",
    "from sklearn.linear_model import Ridge \n",
    "from sklearn.linear_model import Lasso"
   ]
  },
  {
   "cell_type": "code",
   "execution_count": 23,
   "id": "fc9bb1fe",
   "metadata": {},
   "outputs": [
    {
     "name": "stdout",
     "output_type": "stream",
     "text": [
      "**************Ridge Regression Model*******\n",
      "Ridge Train_score:\t 0.8782919710475765\n",
      "\n",
      "Ridge Test_score:\t 0.8770638617875847\n",
      "\n",
      "Ridge R-Square:\t 0.8770638617875847\n"
     ]
    }
   ],
   "source": [
    "#Build Ridge model\n",
    "print('**************Ridge Regression Model*******')\n",
    "lr= Lasso(alpha=0.01)\n",
    "lr.fit(xtrain,ytrain)\n",
    "lr_pred=lr.predict(xtest)\n",
    "print('Ridge Train_score:\\t',lr.score(xtrain,ytrain))\n",
    "print()\n",
    "print('Ridge Test_score:\\t',lr.score(xtest,ytest))\n",
    "print()\n",
    "print('Ridge R-Square:\\t',r2_score(ytest,lr_pred))"
   ]
  },
  {
   "cell_type": "code",
   "execution_count": 24,
   "id": "6af2a6d2",
   "metadata": {},
   "outputs": [
    {
     "name": "stdout",
     "output_type": "stream",
     "text": [
      "**************Ridge Regression Model*******\n",
      "Ridge Train_score:\t 0.8408161898769179\n",
      "\n",
      "Ridge Test_score:\t 0.8408077421750565\n",
      "\n",
      "Ridge R-Square:\t 0.8408077421750565\n"
     ]
    }
   ],
   "source": [
    "#Build Ridge model with 100\n",
    "print('**************Ridge Regression Model*******')\n",
    "lr100= Ridge(alpha=100)\n",
    "lr100.fit(xtrain,ytrain)\n",
    "lr100_pred=rr100.predict(xtest)\n",
    "print('Ridge Train_score:\\t',lr100.score(xtrain,ytrain))\n",
    "print()\n",
    "print('Ridge Test_score:\\t',lr100.score(xtest,ytest))\n",
    "print()\n",
    "print('Ridge R-Square:\\t',r2_score(ytest,lr100_pred))"
   ]
  },
  {
   "cell_type": "code",
   "execution_count": null,
   "id": "95c2649c",
   "metadata": {},
   "outputs": [],
   "source": []
  }
 ],
 "metadata": {
  "kernelspec": {
   "display_name": "Python 3 (ipykernel)",
   "language": "python",
   "name": "python3"
  },
  "language_info": {
   "codemirror_mode": {
    "name": "ipython",
    "version": 3
   },
   "file_extension": ".py",
   "mimetype": "text/x-python",
   "name": "python",
   "nbconvert_exporter": "python",
   "pygments_lexer": "ipython3",
   "version": "3.11.4"
  }
 },
 "nbformat": 4,
 "nbformat_minor": 5
}
