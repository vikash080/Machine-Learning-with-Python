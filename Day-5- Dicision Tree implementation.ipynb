{
 "cells": [
  {
   "cell_type": "code",
   "execution_count": 1,
   "id": "45acd421",
   "metadata": {},
   "outputs": [],
   "source": [
    "#import requried lib\n",
    "import numpy as np\n",
    "import pandas as pd \n",
    "import matplotlib.pyplot as plt\n",
    "import seaborn as sns"
   ]
  },
  {
   "cell_type": "code",
   "execution_count": 2,
   "id": "917df1b2",
   "metadata": {},
   "outputs": [
    {
     "data": {
      "text/html": [
       "<div>\n",
       "<style scoped>\n",
       "    .dataframe tbody tr th:only-of-type {\n",
       "        vertical-align: middle;\n",
       "    }\n",
       "\n",
       "    .dataframe tbody tr th {\n",
       "        vertical-align: top;\n",
       "    }\n",
       "\n",
       "    .dataframe thead th {\n",
       "        text-align: right;\n",
       "    }\n",
       "</style>\n",
       "<table border=\"1\" class=\"dataframe\">\n",
       "  <thead>\n",
       "    <tr style=\"text-align: right;\">\n",
       "      <th></th>\n",
       "      <th>Pregnancies</th>\n",
       "      <th>Glucose</th>\n",
       "      <th>BloodPressure</th>\n",
       "      <th>SkinThickness</th>\n",
       "      <th>Insulin</th>\n",
       "      <th>BMI</th>\n",
       "      <th>DiabetesPedigreeFunction</th>\n",
       "      <th>Age</th>\n",
       "      <th>Outcome</th>\n",
       "    </tr>\n",
       "  </thead>\n",
       "  <tbody>\n",
       "    <tr>\n",
       "      <th>0</th>\n",
       "      <td>6.0</td>\n",
       "      <td>148</td>\n",
       "      <td>72</td>\n",
       "      <td>35.0</td>\n",
       "      <td>0</td>\n",
       "      <td>33.6</td>\n",
       "      <td>0.627</td>\n",
       "      <td>50.0</td>\n",
       "      <td>1</td>\n",
       "    </tr>\n",
       "    <tr>\n",
       "      <th>1</th>\n",
       "      <td>NaN</td>\n",
       "      <td>85</td>\n",
       "      <td>66</td>\n",
       "      <td>29.0</td>\n",
       "      <td>0</td>\n",
       "      <td>26.6</td>\n",
       "      <td>0.351</td>\n",
       "      <td>NaN</td>\n",
       "      <td>0</td>\n",
       "    </tr>\n",
       "    <tr>\n",
       "      <th>2</th>\n",
       "      <td>8.0</td>\n",
       "      <td>183</td>\n",
       "      <td>64</td>\n",
       "      <td>0.0</td>\n",
       "      <td>0</td>\n",
       "      <td>NaN</td>\n",
       "      <td>0.672</td>\n",
       "      <td>32.0</td>\n",
       "      <td>1</td>\n",
       "    </tr>\n",
       "    <tr>\n",
       "      <th>3</th>\n",
       "      <td>1.0</td>\n",
       "      <td>89</td>\n",
       "      <td>66</td>\n",
       "      <td>23.0</td>\n",
       "      <td>94</td>\n",
       "      <td>28.1</td>\n",
       "      <td>0.167</td>\n",
       "      <td>21.0</td>\n",
       "      <td>0</td>\n",
       "    </tr>\n",
       "    <tr>\n",
       "      <th>4</th>\n",
       "      <td>0.0</td>\n",
       "      <td>137</td>\n",
       "      <td>40</td>\n",
       "      <td>35.0</td>\n",
       "      <td>168</td>\n",
       "      <td>43.1</td>\n",
       "      <td>2.288</td>\n",
       "      <td>33.0</td>\n",
       "      <td>1</td>\n",
       "    </tr>\n",
       "  </tbody>\n",
       "</table>\n",
       "</div>"
      ],
      "text/plain": [
       "   Pregnancies  Glucose  BloodPressure  SkinThickness  Insulin   BMI  \\\n",
       "0          6.0      148             72           35.0        0  33.6   \n",
       "1          NaN       85             66           29.0        0  26.6   \n",
       "2          8.0      183             64            0.0        0   NaN   \n",
       "3          1.0       89             66           23.0       94  28.1   \n",
       "4          0.0      137             40           35.0      168  43.1   \n",
       "\n",
       "   DiabetesPedigreeFunction   Age  Outcome  \n",
       "0                     0.627  50.0        1  \n",
       "1                     0.351   NaN        0  \n",
       "2                     0.672  32.0        1  \n",
       "3                     0.167  21.0        0  \n",
       "4                     2.288  33.0        1  "
      ]
     },
     "execution_count": 2,
     "metadata": {},
     "output_type": "execute_result"
    }
   ],
   "source": [
    "#load the dataset\n",
    "data = pd.read_csv('diabetes_na.csv')\n",
    "data.head()"
   ]
  },
  {
   "cell_type": "code",
   "execution_count": 3,
   "id": "610eb673",
   "metadata": {},
   "outputs": [
    {
     "data": {
      "text/plain": [
       "Pregnancies                 2\n",
       "Glucose                     0\n",
       "BloodPressure               0\n",
       "SkinThickness               1\n",
       "Insulin                     0\n",
       "BMI                         1\n",
       "DiabetesPedigreeFunction    0\n",
       "Age                         1\n",
       "Outcome                     0\n",
       "dtype: int64"
      ]
     },
     "execution_count": 3,
     "metadata": {},
     "output_type": "execute_result"
    }
   ],
   "source": [
    "data.isna().sum()"
   ]
  },
  {
   "cell_type": "code",
   "execution_count": 4,
   "id": "42e214d6",
   "metadata": {},
   "outputs": [
    {
     "data": {
      "text/plain": [
       "Pregnancies                 0\n",
       "Glucose                     0\n",
       "BloodPressure               0\n",
       "SkinThickness               0\n",
       "Insulin                     0\n",
       "BMI                         0\n",
       "DiabetesPedigreeFunction    0\n",
       "Age                         0\n",
       "Outcome                     0\n",
       "dtype: int64"
      ]
     },
     "execution_count": 4,
     "metadata": {},
     "output_type": "execute_result"
    }
   ],
   "source": [
    "data= data.fillna(method='bfill')\n",
    "data.isna().sum()"
   ]
  },
  {
   "cell_type": "code",
   "execution_count": 5,
   "id": "09968644",
   "metadata": {},
   "outputs": [
    {
     "data": {
      "text/html": [
       "<div>\n",
       "<style scoped>\n",
       "    .dataframe tbody tr th:only-of-type {\n",
       "        vertical-align: middle;\n",
       "    }\n",
       "\n",
       "    .dataframe tbody tr th {\n",
       "        vertical-align: top;\n",
       "    }\n",
       "\n",
       "    .dataframe thead th {\n",
       "        text-align: right;\n",
       "    }\n",
       "</style>\n",
       "<table border=\"1\" class=\"dataframe\">\n",
       "  <thead>\n",
       "    <tr style=\"text-align: right;\">\n",
       "      <th></th>\n",
       "      <th>Pregnancies</th>\n",
       "      <th>Glucose</th>\n",
       "      <th>BloodPressure</th>\n",
       "      <th>SkinThickness</th>\n",
       "      <th>Insulin</th>\n",
       "      <th>BMI</th>\n",
       "      <th>DiabetesPedigreeFunction</th>\n",
       "      <th>Age</th>\n",
       "      <th>Outcome</th>\n",
       "    </tr>\n",
       "  </thead>\n",
       "  <tbody>\n",
       "    <tr>\n",
       "      <th>0</th>\n",
       "      <td>6.0</td>\n",
       "      <td>148</td>\n",
       "      <td>72</td>\n",
       "      <td>35.0</td>\n",
       "      <td>0</td>\n",
       "      <td>33.6</td>\n",
       "      <td>0.627</td>\n",
       "      <td>50.0</td>\n",
       "      <td>1</td>\n",
       "    </tr>\n",
       "  </tbody>\n",
       "</table>\n",
       "</div>"
      ],
      "text/plain": [
       "   Pregnancies  Glucose  BloodPressure  SkinThickness  Insulin   BMI  \\\n",
       "0          6.0      148             72           35.0        0  33.6   \n",
       "\n",
       "   DiabetesPedigreeFunction   Age  Outcome  \n",
       "0                     0.627  50.0        1  "
      ]
     },
     "execution_count": 5,
     "metadata": {},
     "output_type": "execute_result"
    }
   ],
   "source": [
    "data.head(1)"
   ]
  },
  {
   "cell_type": "code",
   "execution_count": 6,
   "id": "a0a1d24d",
   "metadata": {},
   "outputs": [],
   "source": [
    "x=data.iloc[:,:-1]\n",
    "y=data.iloc[:,-1:]"
   ]
  },
  {
   "cell_type": "code",
   "execution_count": 8,
   "id": "7732fd47",
   "metadata": {},
   "outputs": [
    {
     "data": {
      "text/plain": [
       "<Axes: ylabel='count'>"
      ]
     },
     "execution_count": 8,
     "metadata": {},
     "output_type": "execute_result"
    },
    {
     "data": {
      "image/png": "[encoded data removed]",
      "text/plain": [
       "<Figure size 640x480 with 1 Axes>"
      ]
     },
     "metadata": {},
     "output_type": "display_data"
    }
   ],
   "source": [
    "sns.countplot(data['Outcome'])"
   ]
  },
  {
   "cell_type": "code",
   "execution_count": 10,
   "id": "e948f689",
   "metadata": {},
   "outputs": [
    {
     "name": "stdout",
     "output_type": "stream",
     "text": [
      "Training data for x-axis Shape:\t (576, 8)\n",
      "\n",
      "Training data for y-axis shape:\t (576, 1)\n",
      "\n",
      "***************Testing data Shape*********************\n",
      "\n",
      "\n",
      "Testing data Shape\t (192, 8)\n",
      "\n",
      "Testing data Shape\t (576, 8)\n"
     ]
    }
   ],
   "source": [
    "from sklearn.model_selection import train_test_split\n",
    "xtrain,xtest,ytrain,ytest= train_test_split(x,y,test_size=.25, random_state=2)\n",
    "\n",
    "print('Training data for x-axis Shape:\\t',xtrain.shape)\n",
    "print()\n",
    "print('Training data for y-axis shape:\\t',ytrain.shape)\n",
    "print()\n",
    "print('***************Testing data Shape*********************\\n')\n",
    "print()\n",
    "print('Testing data Shape\\t',xtest.shape)\n",
    "print()\n",
    "print('Testing data Shape\\t',xtrain.shape)"
   ]
  },
  {
   "cell_type": "code",
   "execution_count": 12,
   "id": "204da6e7",
   "metadata": {},
   "outputs": [
    {
     "name": "stdout",
     "output_type": "stream",
     "text": [
      "Decison tree model\n",
      "****************************************************************************************************\n",
      "\n",
      " Training Phase\n",
      "Hyperpatameter: \n",
      " {'ccp_alpha': 0.0, 'class_weight': None, 'criterion': 'gini', 'max_depth': None, 'max_features': None, 'max_leaf_nodes': None, 'min_impurity_decrease': 0.0, 'min_samples_leaf': 1, 'min_samples_split': 2, 'min_weight_fraction_leaf': 0.0, 'random_state': None, 'splitter': 'best'}\n",
      "Training completed\n",
      "====================================================================================================\n",
      "\n",
      " Test Phase\n",
      "Preditced class labeles for the test sample:\n",
      " [0 1 0 1 0 0 0 1 0 0 0 0 1 0 0 1 1 0 1 1 1 1 0 1 0 0 1 0 0 0 1 0 0 0 0 1 1\n",
      " 1 0 0 1 0 0 0 0 0 0 1 0 0 0 1 1 1 1 1 1 0 1 0 0 1 1 1 0 0 0 0 0 1 0 0 0 0\n",
      " 0 1 0 0 0 1 0 0 0 0 1 1 0 0 0 0 1 0 0 1 0 1 0 0 0 1 0 0 0 0 0 0 1 0 0 0 0\n",
      " 0 0 0 0 1 1 0 0 0 0 0 0 0 1 1 0 0 0 0 1 0 1 0 0 1 0 1 0 1 1 1 0 1 0 0 0 0\n",
      " 0 0 0 0 1 0 0 0 0 1 0 1 0 0 0 1 0 0 0 1 1 0 0 0 0 0 1 1 1 1 0 0 0 0 1 0 0\n",
      " 0 0 0 0 0 0 0]\n",
      "\n",
      "Testing completed\n",
      "====================================================================================================\n",
      "====================================================================================================\n",
      "Decison tree - Performance Measures\n",
      "====================================================================================================\n",
      "Accuracy Score:\t\n",
      " 0.6822916666666666\n",
      "====================================================================================================\n",
      "Confussinon matrix:\n",
      " [[102  32]\n",
      " [ 29  29]]\n",
      "====================================================================================================\n",
      "Classificatino report: \n",
      "               precision    recall  f1-score   support\n",
      "\n",
      "           0       0.78      0.76      0.77       134\n",
      "           1       0.48      0.50      0.49        58\n",
      "\n",
      "    accuracy                           0.68       192\n",
      "   macro avg       0.63      0.63      0.63       192\n",
      "weighted avg       0.69      0.68      0.68       192\n",
      "\n"
     ]
    }
   ],
   "source": [
    "from sklearn.tree import DecisionTreeClassifier\n",
    "dt_clf=DecisionTreeClassifier()\n",
    "\n",
    "print('Decison tree model')\n",
    "print('*'*100)\n",
    "print('\\n Training Phase')\n",
    "dt_clf.fit(xtrain,ytrain)\n",
    "print('Hyperpatameter: \\n',dt_clf.get_params())\n",
    "print('Training completed')\n",
    "print('='*100)\n",
    "print('\\n Test Phase')\n",
    "ypred =dt_clf.predict(xtest)\n",
    "print('Preditced class labeles for the test sample:\\n',ypred)\n",
    "print()\n",
    "print('Testing completed')\n",
    "print('='*100)\n",
    "\n",
    "from sklearn.metrics import accuracy_score\n",
    "from sklearn.metrics import confusion_matrix\n",
    "from sklearn.metrics import classification_report\n",
    "\n",
    "print('='*100)\n",
    "print('Decison tree - Performance Measures')\n",
    "print('='*100)\n",
    "\n",
    "print('Accuracy Score:\\t\\n',accuracy_score(ytest,ypred))\n",
    "print('='*100)\n",
    "print('Confussinon matrix:\\n',confusion_matrix(ytest,ypred))\n",
    "print('='*100)\n",
    "print('Classificatino report: \\n',classification_report(ytest,ypred))"
   ]
  },
  {
   "cell_type": "markdown",
   "id": "42d200ff",
   "metadata": {},
   "source": [
    "# Build the decision Tree model with criterion= emtropy index method"
   ]
  },
  {
   "cell_type": "code",
   "execution_count": 13,
   "id": "ef46c610",
   "metadata": {},
   "outputs": [
    {
     "name": "stdout",
     "output_type": "stream",
     "text": [
      "Decison tree model\n",
      "****************************************************************************************************\n",
      "\n",
      " Training Phase\n",
      "Hyperpatameter: \n",
      " {'ccp_alpha': 0.0, 'class_weight': None, 'criterion': 'entropy', 'max_depth': None, 'max_features': None, 'max_leaf_nodes': None, 'min_impurity_decrease': 0.0, 'min_samples_leaf': 1, 'min_samples_split': 2, 'min_weight_fraction_leaf': 0.0, 'random_state': None, 'splitter': 'best'}\n",
      "Training completed\n",
      "====================================================================================================\n",
      "\n",
      " Test Phase\n",
      "Preditced class labeles for the test sample:\n",
      " [0 0 0 0 1 0 0 1 0 0 0 1 1 0 0 1 1 0 1 1 1 1 0 1 0 0 1 0 0 0 1 0 0 0 0 1 0\n",
      " 1 0 0 1 0 0 0 0 0 0 1 0 1 0 1 1 0 0 1 1 1 1 0 0 1 1 1 0 0 0 0 0 1 0 1 0 0\n",
      " 0 0 0 0 0 0 0 0 0 0 1 1 0 0 1 0 0 0 0 0 0 1 1 0 1 0 0 0 0 0 0 0 1 1 0 0 0\n",
      " 0 0 0 0 1 1 0 0 0 0 0 0 0 1 1 0 0 0 1 1 1 1 0 0 1 1 0 0 1 0 1 0 1 0 0 0 0\n",
      " 0 0 0 0 1 0 0 0 0 1 0 1 0 0 0 0 0 0 0 1 0 0 0 0 0 0 0 0 0 1 0 0 0 0 1 0 0\n",
      " 0 0 1 0 1 0 0]\n",
      "\n",
      "Testing completed\n",
      "====================================================================================================\n",
      "====================================================================================================\n",
      "Decison tree - Performance Measures\n",
      "====================================================================================================\n",
      "Accuracy Score:\t\n",
      " 0.7083333333333334\n",
      "====================================================================================================\n",
      "Confussinon matrix:\n",
      " [[106  28]\n",
      " [ 28  30]]\n",
      "====================================================================================================\n",
      "Classificatino report: \n",
      "               precision    recall  f1-score   support\n",
      "\n",
      "           0       0.79      0.79      0.79       134\n",
      "           1       0.52      0.52      0.52        58\n",
      "\n",
      "    accuracy                           0.71       192\n",
      "   macro avg       0.65      0.65      0.65       192\n",
      "weighted avg       0.71      0.71      0.71       192\n",
      "\n"
     ]
    }
   ],
   "source": [
    "from sklearn.tree import DecisionTreeClassifier\n",
    "dt_clf=DecisionTreeClassifier(criterion='entropy')\n",
    "\n",
    "print('Decison tree model')\n",
    "print('*'*100)\n",
    "print('\\n Training Phase')\n",
    "dt_clf.fit(xtrain,ytrain)\n",
    "print('Hyperpatameter: \\n',dt_clf.get_params())\n",
    "print('Training completed')\n",
    "print('='*100)\n",
    "print('\\n Test Phase')\n",
    "ypred =dt_clf.predict(xtest)\n",
    "print('Preditced class labeles for the test sample:\\n',ypred)\n",
    "print()\n",
    "print('Testing completed')\n",
    "print('='*100)\n",
    "\n",
    "from sklearn.metrics import accuracy_score\n",
    "from sklearn.metrics import confusion_matrix\n",
    "from sklearn.metrics import classification_report\n",
    "\n",
    "print('='*100)\n",
    "print('Decison tree - Performance Measures')\n",
    "print('='*100)\n",
    "\n",
    "print('Accuracy Score:\\t\\n',accuracy_score(ytest,ypred))\n",
    "print('='*100)\n",
    "print('Confussinon matrix:\\n',confusion_matrix(ytest,ypred))\n",
    "print('='*100)\n",
    "print('Classificatino report: \\n',classification_report(ytest,ypred))"
   ]
  },
  {
   "cell_type": "markdown",
   "id": "3dd2909e",
   "metadata": {},
   "source": [
    "# Build the decision Tree model with max_depth"
   ]
  },
  {
   "cell_type": "code",
   "execution_count": 15,
   "id": "2e872df4",
   "metadata": {},
   "outputs": [
    {
     "name": "stdout",
     "output_type": "stream",
     "text": [
      "3\n"
     ]
    }
   ],
   "source": [
    "from sklearn.tree import DecisionTreeClassifier\n",
    "from sklearn.model_selection import GridSearchCV\n",
    "\n",
    "param_grid={ 'max_depth':[None,3,4,5,6,7,8,10]}\n",
    "\n",
    "clf= DecisionTreeClassifier(criterion='entropy')\n",
    "grid_search= GridSearchCV(clf,param_grid,cv=5)\n",
    "grid_search.fit(xtrain,ytrain)\n",
    "best_max_depth=grid_search.best_params_['max_depth']\n",
    "print(best_max_depth)"
   ]
  },
  {
   "cell_type": "code",
   "execution_count": 17,
   "id": "989b2c8c",
   "metadata": {},
   "outputs": [
    {
     "data": {
      "text/plain": [
       "{'max_depth': 3}"
      ]
     },
     "execution_count": 17,
     "metadata": {},
     "output_type": "execute_result"
    }
   ],
   "source": [
    "grid_search.best_params_"
   ]
  },
  {
   "cell_type": "code",
   "execution_count": 18,
   "id": "127d6421",
   "metadata": {},
   "outputs": [
    {
     "data": {
      "text/plain": [
       "{'mean_fit_time': array([0.01184449, 0.0085639 , 0.00888424, 0.00941486, 0.00981622,\n",
       "        0.01095133, 0.00990305, 0.01064291]),\n",
       " 'std_fit_time': array([0.00080412, 0.0006169 , 0.00097349, 0.00068089, 0.00101856,\n",
       "        0.00074076, 0.00082498, 0.00075151]),\n",
       " 'mean_score_time': array([0.00436811, 0.00291524, 0.00353422, 0.00326777, 0.00323467,\n",
       "        0.0030344 , 0.00361533, 0.00340362]),\n",
       " 'std_score_time': array([0.00081841, 0.0008652 , 0.00048846, 0.00073883, 0.00052034,\n",
       "        0.00033834, 0.00066974, 0.00018944]),\n",
       " 'param_max_depth': masked_array(data=[None, 3, 4, 5, 6, 7, 8, 10],\n",
       "              mask=[False, False, False, False, False, False, False, False],\n",
       "        fill_value='?',\n",
       "             dtype=object),\n",
       " 'params': [{'max_depth': None},\n",
       "  {'max_depth': 3},\n",
       "  {'max_depth': 4},\n",
       "  {'max_depth': 5},\n",
       "  {'max_depth': 6},\n",
       "  {'max_depth': 7},\n",
       "  {'max_depth': 8},\n",
       "  {'max_depth': 10}],\n",
       " 'split0_test_score': array([0.62931034, 0.70689655, 0.68965517, 0.64655172, 0.64655172,\n",
       "        0.64655172, 0.64655172, 0.63793103]),\n",
       " 'split1_test_score': array([0.69565217, 0.69565217, 0.71304348, 0.71304348, 0.71304348,\n",
       "        0.70434783, 0.69565217, 0.70434783]),\n",
       " 'split2_test_score': array([0.65217391, 0.76521739, 0.73913043, 0.69565217, 0.66086957,\n",
       "        0.67826087, 0.71304348, 0.69565217]),\n",
       " 'split3_test_score': array([0.67826087, 0.68695652, 0.73913043, 0.67826087, 0.73913043,\n",
       "        0.67826087, 0.68695652, 0.68695652]),\n",
       " 'split4_test_score': array([0.72173913, 0.76521739, 0.73043478, 0.68695652, 0.73043478,\n",
       "        0.72173913, 0.71304348, 0.70434783]),\n",
       " 'mean_test_score': array([0.67542729, 0.72398801, 0.72227886, 0.68409295, 0.698006  ,\n",
       "        0.68583208, 0.69104948, 0.68584708]),\n",
       " 'std_test_score': array([0.03233993, 0.03425228, 0.01888951, 0.02201502, 0.03740489,\n",
       "        0.0256505 , 0.02443546, 0.02481078]),\n",
       " 'rank_test_score': array([8, 1, 2, 7, 3, 6, 4, 5])}"
      ]
     },
     "execution_count": 18,
     "metadata": {},
     "output_type": "execute_result"
    }
   ],
   "source": [
    "grid_search.cv_results_"
   ]
  },
  {
   "cell_type": "code",
   "execution_count": 19,
   "id": "1edd5c21",
   "metadata": {},
   "outputs": [
    {
     "data": {
      "text/html": [
       "<style>#sk-container-id-1 {color: black;background-color: white;}#sk-container-id-1 pre{padding: 0;}#sk-container-id-1 div.sk-toggleable {background-color: white;}#sk-container-id-1 label.sk-toggleable__label {cursor: pointer;display: block;width: 100%;margin-bottom: 0;padding: 0.3em;box-sizing: border-box;text-align: center;}#sk-container-id-1 label.sk-toggleable__label-arrow:before {content: \"▸\";float: left;margin-right: 0.25em;color: #696969;}#sk-container-id-1 label.sk-toggleable__label-arrow:hover:before {color: black;}#sk-container-id-1 div.sk-estimator:hover label.sk-toggleable__label-arrow:before {color: black;}#sk-container-id-1 div.sk-toggleable__content {max-height: 0;max-width: 0;overflow: hidden;text-align: left;background-color: #f0f8ff;}#sk-container-id-1 div.sk-toggleable__content pre {margin: 0.2em;color: black;border-radius: 0.25em;background-color: #f0f8ff;}#sk-container-id-1 input.sk-toggleable__control:checked~div.sk-toggleable__content {max-height: 200px;max-width: 100%;overflow: auto;}#sk-container-id-1 input.sk-toggleable__control:checked~label.sk-toggleable__label-arrow:before {content: \"▾\";}#sk-container-id-1 div.sk-estimator input.sk-toggleable__control:checked~label.sk-toggleable__label {background-color: #d4ebff;}#sk-container-id-1 div.sk-label input.sk-toggleable__control:checked~label.sk-toggleable__label {background-color: #d4ebff;}#sk-container-id-1 input.sk-hidden--visually {border: 0;clip: rect(1px 1px 1px 1px);clip: rect(1px, 1px, 1px, 1px);height: 1px;margin: -1px;overflow: hidden;padding: 0;position: absolute;width: 1px;}#sk-container-id-1 div.sk-estimator {font-family: monospace;background-color: #f0f8ff;border: 1px dotted black;border-radius: 0.25em;box-sizing: border-box;margin-bottom: 0.5em;}#sk-container-id-1 div.sk-estimator:hover {background-color: #d4ebff;}#sk-container-id-1 div.sk-parallel-item::after {content: \"\";width: 100%;border-bottom: 1px solid gray;flex-grow: 1;}#sk-container-id-1 div.sk-label:hover label.sk-toggleable__label {background-color: #d4ebff;}#sk-container-id-1 div.sk-serial::before {content: \"\";position: absolute;border-left: 1px solid gray;box-sizing: border-box;top: 0;bottom: 0;left: 50%;z-index: 0;}#sk-container-id-1 div.sk-serial {display: flex;flex-direction: column;align-items: center;background-color: white;padding-right: 0.2em;padding-left: 0.2em;position: relative;}#sk-container-id-1 div.sk-item {position: relative;z-index: 1;}#sk-container-id-1 div.sk-parallel {display: flex;align-items: stretch;justify-content: center;background-color: white;position: relative;}#sk-container-id-1 div.sk-item::before, #sk-container-id-1 div.sk-parallel-item::before {content: \"\";position: absolute;border-left: 1px solid gray;box-sizing: border-box;top: 0;bottom: 0;left: 50%;z-index: -1;}#sk-container-id-1 div.sk-parallel-item {display: flex;flex-direction: column;z-index: 1;position: relative;background-color: white;}#sk-container-id-1 div.sk-parallel-item:first-child::after {align-self: flex-end;width: 50%;}#sk-container-id-1 div.sk-parallel-item:last-child::after {align-self: flex-start;width: 50%;}#sk-container-id-1 div.sk-parallel-item:only-child::after {width: 0;}#sk-container-id-1 div.sk-dashed-wrapped {border: 1px dashed gray;margin: 0 0.4em 0.5em 0.4em;box-sizing: border-box;padding-bottom: 0.4em;background-color: white;}#sk-container-id-1 div.sk-label label {font-family: monospace;font-weight: bold;display: inline-block;line-height: 1.2em;}#sk-container-id-1 div.sk-label-container {text-align: center;}#sk-container-id-1 div.sk-container {/* jupyter's `normalize.less` sets `[hidden] { display: none; }` but bootstrap.min.css set `[hidden] { display: none !important; }` so we also need the `!important` here to be able to override the default hidden behavior on the sphinx rendered scikit-learn.org. See: https://github.com/scikit-learn/scikit-learn/issues/21755 */display: inline-block !important;position: relative;}#sk-container-id-1 div.sk-text-repr-fallback {display: none;}</style><div id=\"sk-container-id-1\" class=\"sk-top-container\"><div class=\"sk-text-repr-fallback\"><pre>DecisionTreeClassifier(criterion=&#x27;entropy&#x27;, max_depth=3)</pre><b>In a Jupyter environment, please rerun this cell to show the HTML representation or trust the notebook. <br />On GitHub, the HTML representation is unable to render, please try loading this page with nbviewer.org.</b></div><div class=\"sk-container\" hidden><div class=\"sk-item\"><div class=\"sk-estimator sk-toggleable\"><input class=\"sk-toggleable__control sk-hidden--visually\" id=\"sk-estimator-id-1\" type=\"checkbox\" checked><label for=\"sk-estimator-id-1\" class=\"sk-toggleable__label sk-toggleable__label-arrow\">DecisionTreeClassifier</label><div class=\"sk-toggleable__content\"><pre>DecisionTreeClassifier(criterion=&#x27;entropy&#x27;, max_depth=3)</pre></div></div></div></div></div>"
      ],
      "text/plain": [
       "DecisionTreeClassifier(criterion='entropy', max_depth=3)"
      ]
     },
     "execution_count": 19,
     "metadata": {},
     "output_type": "execute_result"
    }
   ],
   "source": [
    "grid_search.best_estimator_"
   ]
  },
  {
   "cell_type": "code",
   "execution_count": 20,
   "id": "3a07e992",
   "metadata": {},
   "outputs": [
    {
     "data": {
      "text/plain": [
       "1"
      ]
     },
     "execution_count": 20,
     "metadata": {},
     "output_type": "execute_result"
    }
   ],
   "source": [
    "grid_search.best_index_"
   ]
  },
  {
   "cell_type": "code",
   "execution_count": 21,
   "id": "03884e2d",
   "metadata": {},
   "outputs": [
    {
     "data": {
      "text/plain": [
       "array([0, 1], dtype=int64)"
      ]
     },
     "execution_count": 21,
     "metadata": {},
     "output_type": "execute_result"
    }
   ],
   "source": [
    "grid_search.classes_"
   ]
  },
  {
   "cell_type": "code",
   "execution_count": 22,
   "id": "e07b1208",
   "metadata": {},
   "outputs": [
    {
     "data": {
      "text/plain": [
       "5"
      ]
     },
     "execution_count": 22,
     "metadata": {},
     "output_type": "execute_result"
    }
   ],
   "source": [
    "grid_search.cv"
   ]
  },
  {
   "cell_type": "code",
   "execution_count": 24,
   "id": "d89bbaae",
   "metadata": {},
   "outputs": [
    {
     "data": {
      "text/plain": [
       "array(['Pregnancies', 'Glucose', 'BloodPressure', 'SkinThickness',\n",
       "       'Insulin', 'BMI', 'DiabetesPedigreeFunction', 'Age'], dtype=object)"
      ]
     },
     "execution_count": 24,
     "metadata": {},
     "output_type": "execute_result"
    }
   ],
   "source": [
    "grid_search.feature_names_in_"
   ]
  },
  {
   "cell_type": "code",
   "execution_count": 30,
   "id": "be977034",
   "metadata": {},
   "outputs": [
    {
     "data": {
      "text/plain": [
       "{'ccp_alpha': 0.0,\n",
       " 'class_weight': None,\n",
       " 'criterion': 'entropy',\n",
       " 'max_depth': None,\n",
       " 'max_features': None,\n",
       " 'max_leaf_nodes': None,\n",
       " 'min_impurity_decrease': 0.0,\n",
       " 'min_samples_leaf': 1,\n",
       " 'min_samples_split': 2,\n",
       " 'min_weight_fraction_leaf': 0.0,\n",
       " 'random_state': None,\n",
       " 'splitter': 'best'}"
      ]
     },
     "execution_count": 30,
     "metadata": {},
     "output_type": "execute_result"
    }
   ],
   "source": [
    "clf.get_params()"
   ]
  },
  {
   "cell_type": "code",
   "execution_count": 31,
   "id": "19aae8c7",
   "metadata": {},
   "outputs": [
    {
     "data": {
      "text/plain": [
       "[Text(0.4817627708978328, 0.9736842105263158, 'X[1] <= 127.5\\nentropy = 0.946\\nsamples = 576\\nvalue = [366, 210]'),\n",
       " Text(0.12538699690402477, 0.9210526315789473, 'X[5] <= 26.45\\nentropy = 0.708\\nsamples = 352\\nvalue = [284, 68]'),\n",
       " Text(0.03715170278637771, 0.868421052631579, 'X[5] <= 9.1\\nentropy = 0.139\\nsamples = 102\\nvalue = [100, 2]'),\n",
       " Text(0.02476780185758514, 0.8157894736842105, 'X[0] <= 7.5\\nentropy = 0.764\\nsamples = 9\\nvalue = [7, 2]'),\n",
       " Text(0.01238390092879257, 0.7631578947368421, 'entropy = 0.0\\nsamples = 7\\nvalue = [7, 0]'),\n",
       " Text(0.03715170278637771, 0.7631578947368421, 'entropy = 0.0\\nsamples = 2\\nvalue = [0, 2]'),\n",
       " Text(0.04953560371517028, 0.8157894736842105, 'entropy = 0.0\\nsamples = 93\\nvalue = [93, 0]'),\n",
       " Text(0.21362229102167182, 0.868421052631579, 'X[7] <= 28.5\\nentropy = 0.833\\nsamples = 250\\nvalue = [184, 66]'),\n",
       " Text(0.07430340557275542, 0.8157894736842105, 'X[5] <= 45.4\\nentropy = 0.552\\nsamples = 125\\nvalue = [109, 16]'),\n",
       " Text(0.06191950464396285, 0.7631578947368421, 'X[5] <= 30.9\\nentropy = 0.489\\nsamples = 122\\nvalue = [109, 13]'),\n",
       " Text(0.04953560371517028, 0.7105263157894737, 'entropy = 0.0\\nsamples = 38\\nvalue = [38, 0]'),\n",
       " Text(0.07430340557275542, 0.7105263157894737, 'X[6] <= 0.501\\nentropy = 0.622\\nsamples = 84\\nvalue = [71, 13]'),\n",
       " Text(0.043343653250773995, 0.6578947368421053, 'X[2] <= 53.0\\nentropy = 0.402\\nsamples = 50\\nvalue = [46, 4]'),\n",
       " Text(0.030959752321981424, 0.6052631578947368, 'entropy = 0.0\\nsamples = 3\\nvalue = [0, 3]'),\n",
       " Text(0.05572755417956656, 0.6052631578947368, 'X[3] <= 8.0\\nentropy = 0.149\\nsamples = 47\\nvalue = [46, 1]'),\n",
       " Text(0.043343653250773995, 0.5526315789473685, 'X[7] <= 23.5\\nentropy = 0.65\\nsamples = 6\\nvalue = [5, 1]'),\n",
       " Text(0.030959752321981424, 0.5, 'entropy = 0.0\\nsamples = 1\\nvalue = [0, 1]'),\n",
       " Text(0.05572755417956656, 0.5, 'entropy = 0.0\\nsamples = 5\\nvalue = [5, 0]'),\n",
       " Text(0.06811145510835913, 0.5526315789473685, 'entropy = 0.0\\nsamples = 41\\nvalue = [41, 0]'),\n",
       " Text(0.10526315789473684, 0.6578947368421053, 'X[2] <= 61.0\\nentropy = 0.834\\nsamples = 34\\nvalue = [25, 9]'),\n",
       " Text(0.09287925696594428, 0.6052631578947368, 'entropy = 0.0\\nsamples = 7\\nvalue = [7, 0]'),\n",
       " Text(0.11764705882352941, 0.6052631578947368, 'X[6] <= 0.551\\nentropy = 0.918\\nsamples = 27\\nvalue = [18, 9]'),\n",
       " Text(0.09287925696594428, 0.5526315789473685, 'X[4] <= 149.5\\nentropy = 0.863\\nsamples = 7\\nvalue = [2, 5]'),\n",
       " Text(0.0804953560371517, 0.5, 'entropy = 0.0\\nsamples = 5\\nvalue = [0, 5]'),\n",
       " Text(0.10526315789473684, 0.5, 'entropy = 0.0\\nsamples = 2\\nvalue = [2, 0]'),\n",
       " Text(0.14241486068111456, 0.5526315789473685, 'X[5] <= 32.7\\nentropy = 0.722\\nsamples = 20\\nvalue = [16, 4]'),\n",
       " Text(0.13003095975232198, 0.5, 'entropy = 0.0\\nsamples = 7\\nvalue = [7, 0]'),\n",
       " Text(0.15479876160990713, 0.5, 'X[5] <= 34.35\\nentropy = 0.89\\nsamples = 13\\nvalue = [9, 4]'),\n",
       " Text(0.14241486068111456, 0.4473684210526316, 'entropy = 0.0\\nsamples = 2\\nvalue = [0, 2]'),\n",
       " Text(0.16718266253869968, 0.4473684210526316, 'X[7] <= 23.5\\nentropy = 0.684\\nsamples = 11\\nvalue = [9, 2]'),\n",
       " Text(0.15479876160990713, 0.39473684210526316, 'X[1] <= 119.5\\nentropy = 0.971\\nsamples = 5\\nvalue = [3, 2]'),\n",
       " Text(0.14241486068111456, 0.34210526315789475, 'X[0] <= 2.5\\nentropy = 0.918\\nsamples = 3\\nvalue = [1, 2]'),\n",
       " Text(0.13003095975232198, 0.2894736842105263, 'entropy = 0.0\\nsamples = 2\\nvalue = [0, 2]'),\n",
       " Text(0.15479876160990713, 0.2894736842105263, 'entropy = 0.0\\nsamples = 1\\nvalue = [1, 0]'),\n",
       " Text(0.16718266253869968, 0.34210526315789475, 'entropy = 0.0\\nsamples = 2\\nvalue = [2, 0]'),\n",
       " Text(0.17956656346749225, 0.39473684210526316, 'entropy = 0.0\\nsamples = 6\\nvalue = [6, 0]'),\n",
       " Text(0.08668730650154799, 0.7631578947368421, 'entropy = 0.0\\nsamples = 3\\nvalue = [0, 3]'),\n",
       " Text(0.35294117647058826, 0.8157894736842105, 'X[1] <= 100.5\\nentropy = 0.971\\nsamples = 125\\nvalue = [75, 50]'),\n",
       " Text(0.2786377708978328, 0.7631578947368421, 'X[3] <= 32.5\\nentropy = 0.702\\nsamples = 42\\nvalue = [34, 8]'),\n",
       " Text(0.26625386996904027, 0.7105263157894737, 'X[3] <= 31.5\\nentropy = 0.837\\nsamples = 30\\nvalue = [22, 8]'),\n",
       " Text(0.25386996904024767, 0.6578947368421053, 'X[0] <= 11.0\\nentropy = 0.75\\nsamples = 28\\nvalue = [22, 6]'),\n",
       " Text(0.22910216718266255, 0.6052631578947368, 'X[0] <= 5.5\\nentropy = 0.544\\nsamples = 24\\nvalue = [21, 3]'),\n",
       " Text(0.21671826625386997, 0.5526315789473685, 'X[7] <= 47.5\\nentropy = 0.811\\nsamples = 12\\nvalue = [9, 3]'),\n",
       " Text(0.2043343653250774, 0.5, 'X[6] <= 0.182\\nentropy = 0.684\\nsamples = 11\\nvalue = [9, 2]'),\n",
       " Text(0.19195046439628483, 0.4473684210526316, 'entropy = 0.0\\nsamples = 1\\nvalue = [0, 1]'),\n",
       " Text(0.21671826625386997, 0.4473684210526316, 'X[6] <= 1.11\\nentropy = 0.469\\nsamples = 10\\nvalue = [9, 1]'),\n",
       " Text(0.2043343653250774, 0.39473684210526316, 'entropy = 0.0\\nsamples = 9\\nvalue = [9, 0]'),\n",
       " Text(0.22910216718266255, 0.39473684210526316, 'entropy = 0.0\\nsamples = 1\\nvalue = [0, 1]'),\n",
       " Text(0.22910216718266255, 0.5, 'entropy = 0.0\\nsamples = 1\\nvalue = [0, 1]'),\n",
       " Text(0.24148606811145512, 0.5526315789473685, 'entropy = 0.0\\nsamples = 12\\nvalue = [12, 0]'),\n",
       " Text(0.2786377708978328, 0.6052631578947368, 'X[1] <= 80.0\\nentropy = 0.811\\nsamples = 4\\nvalue = [1, 3]'),\n",
       " Text(0.26625386996904027, 0.5526315789473685, 'entropy = 0.0\\nsamples = 1\\nvalue = [1, 0]'),\n",
       " Text(0.29102167182662536, 0.5526315789473685, 'entropy = 0.0\\nsamples = 3\\nvalue = [0, 3]'),\n",
       " Text(0.2786377708978328, 0.6578947368421053, 'entropy = 0.0\\nsamples = 2\\nvalue = [0, 2]'),\n",
       " Text(0.29102167182662536, 0.7105263157894737, 'entropy = 0.0\\nsamples = 12\\nvalue = [12, 0]'),\n",
       " Text(0.42724458204334365, 0.7631578947368421, 'X[6] <= 0.561\\nentropy = 1.0\\nsamples = 83\\nvalue = [41, 42]'),\n",
       " Text(0.37770897832817335, 0.7105263157894737, 'X[2] <= 84.0\\nentropy = 0.965\\nsamples = 59\\nvalue = [36, 23]'),\n",
       " Text(0.35294117647058826, 0.6578947368421053, 'X[3] <= 39.5\\nentropy = 0.997\\nsamples = 47\\nvalue = [25, 22]'),\n",
       " Text(0.34055727554179566, 0.6052631578947368, 'X[6] <= 0.387\\nentropy = 0.998\\nsamples = 42\\nvalue = [20, 22]'),\n",
       " Text(0.3157894736842105, 0.5526315789473685, 'X[6] <= 0.288\\nentropy = 0.954\\nsamples = 32\\nvalue = [12, 20]'),\n",
       " Text(0.30340557275541796, 0.5, 'X[0] <= 3.5\\nentropy = 0.999\\nsamples = 25\\nvalue = [12, 13]'),\n",
       " Text(0.29102167182662536, 0.4473684210526316, 'entropy = 0.0\\nsamples = 4\\nvalue = [4, 0]'),\n",
       " Text(0.3157894736842105, 0.4473684210526316, 'X[7] <= 45.0\\nentropy = 0.959\\nsamples = 21\\nvalue = [8, 13]'),\n",
       " Text(0.29102167182662536, 0.39473684210526316, 'X[6] <= 0.138\\nentropy = 0.811\\nsamples = 16\\nvalue = [4, 12]'),\n",
       " Text(0.2786377708978328, 0.34210526315789475, 'entropy = 0.0\\nsamples = 2\\nvalue = [2, 0]'),\n",
       " Text(0.30340557275541796, 0.34210526315789475, 'X[1] <= 121.0\\nentropy = 0.592\\nsamples = 14\\nvalue = [2, 12]'),\n",
       " Text(0.29102167182662536, 0.2894736842105263, 'entropy = 0.0\\nsamples = 9\\nvalue = [0, 9]'),\n",
       " Text(0.3157894736842105, 0.2894736842105263, 'X[6] <= 0.242\\nentropy = 0.971\\nsamples = 5\\nvalue = [2, 3]'),\n",
       " Text(0.30340557275541796, 0.23684210526315788, 'entropy = 0.0\\nsamples = 3\\nvalue = [0, 3]'),\n",
       " Text(0.3281733746130031, 0.23684210526315788, 'entropy = 0.0\\nsamples = 2\\nvalue = [2, 0]'),\n",
       " Text(0.34055727554179566, 0.39473684210526316, 'X[6] <= 0.137\\nentropy = 0.722\\nsamples = 5\\nvalue = [4, 1]'),\n",
       " Text(0.3281733746130031, 0.34210526315789475, 'entropy = 0.0\\nsamples = 1\\nvalue = [0, 1]'),\n",
       " Text(0.35294117647058826, 0.34210526315789475, 'entropy = 0.0\\nsamples = 4\\nvalue = [4, 0]'),\n",
       " Text(0.3281733746130031, 0.5, 'entropy = 0.0\\nsamples = 7\\nvalue = [0, 7]'),\n",
       " Text(0.3653250773993808, 0.5526315789473685, 'X[1] <= 117.5\\nentropy = 0.722\\nsamples = 10\\nvalue = [8, 2]'),\n",
       " Text(0.35294117647058826, 0.5, 'X[7] <= 31.0\\nentropy = 1.0\\nsamples = 4\\nvalue = [2, 2]'),\n",
       " Text(0.34055727554179566, 0.4473684210526316, 'entropy = 0.0\\nsamples = 2\\nvalue = [2, 0]'),\n",
       " Text(0.3653250773993808, 0.4473684210526316, 'entropy = 0.0\\nsamples = 2\\nvalue = [0, 2]'),\n",
       " Text(0.37770897832817335, 0.5, 'entropy = 0.0\\nsamples = 6\\nvalue = [6, 0]'),\n",
       " Text(0.3653250773993808, 0.6052631578947368, 'entropy = 0.0\\nsamples = 5\\nvalue = [5, 0]'),\n",
       " Text(0.4024767801857585, 0.6578947368421053, 'X[5] <= 41.25\\nentropy = 0.414\\nsamples = 12\\nvalue = [11, 1]'),\n",
       " Text(0.39009287925696595, 0.6052631578947368, 'entropy = 0.0\\nsamples = 11\\nvalue = [11, 0]'),\n",
       " Text(0.4148606811145511, 0.6052631578947368, 'entropy = 0.0\\nsamples = 1\\nvalue = [0, 1]'),\n",
       " Text(0.47678018575851394, 0.7105263157894737, 'X[0] <= 5.0\\nentropy = 0.738\\nsamples = 24\\nvalue = [5, 19]'),\n",
       " Text(0.46439628482972134, 0.6578947368421053, 'X[4] <= 120.5\\nentropy = 0.994\\nsamples = 11\\nvalue = [5, 6]'),\n",
       " Text(0.43962848297213625, 0.6052631578947368, 'X[2] <= 78.0\\nentropy = 0.722\\nsamples = 5\\nvalue = [4, 1]'),\n",
       " Text(0.42724458204334365, 0.5526315789473685, 'entropy = 0.0\\nsamples = 4\\nvalue = [4, 0]'),\n",
       " Text(0.4520123839009288, 0.5526315789473685, 'entropy = 0.0\\nsamples = 1\\nvalue = [0, 1]'),\n",
       " Text(0.4891640866873065, 0.6052631578947368, 'X[3] <= 47.5\\nentropy = 0.65\\nsamples = 6\\nvalue = [1, 5]'),\n",
       " Text(0.47678018575851394, 0.5526315789473685, 'entropy = 0.0\\nsamples = 5\\nvalue = [0, 5]'),\n",
       " Text(0.5015479876160991, 0.5526315789473685, 'entropy = 0.0\\nsamples = 1\\nvalue = [1, 0]'),\n",
       " Text(0.4891640866873065, 0.6578947368421053, 'entropy = 0.0\\nsamples = 13\\nvalue = [0, 13]'),\n",
       " Text(0.8381385448916409, 0.9210526315789473, 'X[1] <= 165.5\\nentropy = 0.948\\nsamples = 224\\nvalue = [82, 142]'),\n",
       " Text(0.7010448916408669, 0.868421052631579, 'X[5] <= 27.85\\nentropy = 0.997\\nsamples = 158\\nvalue = [74, 84]'),\n",
       " Text(0.5758513931888545, 0.8157894736842105, 'X[0] <= 1.5\\nentropy = 0.764\\nsamples = 36\\nvalue = [28, 8]'),\n",
       " Text(0.5634674922600619, 0.7631578947368421, 'entropy = 0.0\\nsamples = 10\\nvalue = [10, 0]'),\n",
       " Text(0.5882352941176471, 0.7631578947368421, 'X[1] <= 145.5\\nentropy = 0.89\\nsamples = 26\\nvalue = [18, 8]'),\n",
       " Text(0.5634674922600619, 0.7105263157894737, 'X[2] <= 73.0\\nentropy = 0.65\\nsamples = 18\\nvalue = [15, 3]'),\n",
       " Text(0.5510835913312694, 0.6578947368421053, 'X[5] <= 26.7\\nentropy = 0.954\\nsamples = 8\\nvalue = [5, 3]'),\n",
       " Text(0.5386996904024768, 0.6052631578947368, 'X[5] <= 25.5\\nentropy = 1.0\\nsamples = 6\\nvalue = [3, 3]'),\n",
       " Text(0.5263157894736842, 0.5526315789473685, 'X[7] <= 57.5\\nentropy = 0.811\\nsamples = 4\\nvalue = [3, 1]'),\n",
       " Text(0.5139318885448917, 0.5, 'entropy = 0.0\\nsamples = 3\\nvalue = [3, 0]'),\n",
       " Text(0.5386996904024768, 0.5, 'entropy = 0.0\\nsamples = 1\\nvalue = [0, 1]'),\n",
       " Text(0.5510835913312694, 0.5526315789473685, 'entropy = 0.0\\nsamples = 2\\nvalue = [0, 2]'),\n",
       " Text(0.5634674922600619, 0.6052631578947368, 'entropy = 0.0\\nsamples = 2\\nvalue = [2, 0]'),\n",
       " Text(0.5758513931888545, 0.6578947368421053, 'entropy = 0.0\\nsamples = 10\\nvalue = [10, 0]'),\n",
       " Text(0.6130030959752322, 0.7105263157894737, 'X[3] <= 11.5\\nentropy = 0.954\\nsamples = 8\\nvalue = [3, 5]'),\n",
       " Text(0.6006191950464397, 0.6578947368421053, 'X[2] <= 63.0\\nentropy = 1.0\\nsamples = 6\\nvalue = [3, 3]'),\n",
       " Text(0.5882352941176471, 0.6052631578947368, 'entropy = 0.0\\nsamples = 2\\nvalue = [0, 2]'),\n",
       " Text(0.6130030959752322, 0.6052631578947368, 'X[2] <= 85.0\\nentropy = 0.811\\nsamples = 4\\nvalue = [3, 1]'),\n",
       " Text(0.6006191950464397, 0.5526315789473685, 'entropy = 0.0\\nsamples = 3\\nvalue = [3, 0]'),\n",
       " Text(0.6253869969040248, 0.5526315789473685, 'entropy = 0.0\\nsamples = 1\\nvalue = [0, 1]'),\n",
       " Text(0.6253869969040248, 0.6578947368421053, 'entropy = 0.0\\nsamples = 2\\nvalue = [0, 2]'),\n",
       " Text(0.8262383900928792, 0.8157894736842105, 'X[0] <= 7.5\\nentropy = 0.956\\nsamples = 122\\nvalue = [46, 76]'),\n",
       " Text(0.7763157894736842, 0.7631578947368421, 'X[6] <= 0.73\\nentropy = 0.992\\nsamples = 96\\nvalue = [43, 53]'),\n",
       " Text(0.7383900928792569, 0.7105263157894737, 'X[1] <= 163.0\\nentropy = 0.999\\nsamples = 77\\nvalue = [40, 37]'),\n",
       " Text(0.7260061919504643, 0.6578947368421053, 'X[5] <= 47.2\\nentropy = 1.0\\nsamples = 73\\nvalue = [36, 37]'),\n",
       " Text(0.7136222910216719, 0.6052631578947368, 'X[7] <= 42.5\\nentropy = 0.998\\nsamples = 68\\nvalue = [36, 32]'),\n",
       " Text(0.6501547987616099, 0.5526315789473685, 'X[2] <= 55.0\\nentropy = 0.958\\nsamples = 50\\nvalue = [31, 19]'),\n",
       " Text(0.6160990712074303, 0.5, 'X[7] <= 40.0\\nentropy = 0.65\\nsamples = 6\\nvalue = [1, 5]'),\n",
       " Text(0.6037151702786377, 0.4473684210526316, 'entropy = 0.0\\nsamples = 5\\nvalue = [0, 5]'),\n",
       " Text(0.628482972136223, 0.4473684210526316, 'entropy = 0.0\\nsamples = 1\\nvalue = [1, 0]'),\n",
       " Text(0.6842105263157895, 0.5, 'X[6] <= 0.285\\nentropy = 0.902\\nsamples = 44\\nvalue = [30, 14]'),\n",
       " Text(0.653250773993808, 0.4473684210526316, 'X[7] <= 22.5\\nentropy = 0.391\\nsamples = 13\\nvalue = [12, 1]'),\n",
       " Text(0.6408668730650154, 0.39473684210526316, 'X[3] <= 32.5\\nentropy = 1.0\\nsamples = 2\\nvalue = [1, 1]'),\n",
       " Text(0.628482972136223, 0.34210526315789475, 'entropy = 0.0\\nsamples = 1\\nvalue = [1, 0]'),\n",
       " Text(0.653250773993808, 0.34210526315789475, 'entropy = 0.0\\nsamples = 1\\nvalue = [0, 1]'),\n",
       " Text(0.6656346749226006, 0.39473684210526316, 'entropy = 0.0\\nsamples = 11\\nvalue = [11, 0]'),\n",
       " Text(0.7151702786377709, 0.4473684210526316, 'X[6] <= 0.559\\nentropy = 0.981\\nsamples = 31\\nvalue = [18, 13]'),\n",
       " Text(0.6904024767801857, 0.39473684210526316, 'X[6] <= 0.483\\nentropy = 0.985\\nsamples = 21\\nvalue = [9, 12]'),\n",
       " Text(0.6780185758513931, 0.34210526315789475, 'X[5] <= 28.5\\nentropy = 0.998\\nsamples = 17\\nvalue = [9, 8]'),\n",
       " Text(0.6656346749226006, 0.2894736842105263, 'entropy = 0.0\\nsamples = 2\\nvalue = [0, 2]'),\n",
       " Text(0.6904024767801857, 0.2894736842105263, 'X[3] <= 31.0\\nentropy = 0.971\\nsamples = 15\\nvalue = [9, 6]'),\n",
       " Text(0.6780185758513931, 0.23684210526315788, 'entropy = 0.0\\nsamples = 4\\nvalue = [4, 0]'),\n",
       " Text(0.7027863777089783, 0.23684210526315788, 'X[3] <= 48.0\\nentropy = 0.994\\nsamples = 11\\nvalue = [5, 6]'),\n",
       " Text(0.6904024767801857, 0.18421052631578946, 'X[7] <= 25.5\\nentropy = 0.918\\nsamples = 9\\nvalue = [3, 6]'),\n",
       " Text(0.6780185758513931, 0.13157894736842105, 'entropy = 0.0\\nsamples = 4\\nvalue = [0, 4]'),\n",
       " Text(0.7027863777089783, 0.13157894736842105, 'X[2] <= 80.0\\nentropy = 0.971\\nsamples = 5\\nvalue = [3, 2]'),\n",
       " Text(0.6904024767801857, 0.07894736842105263, 'entropy = 0.0\\nsamples = 2\\nvalue = [2, 0]'),\n",
       " Text(0.7151702786377709, 0.07894736842105263, 'X[4] <= 44.0\\nentropy = 0.918\\nsamples = 3\\nvalue = [1, 2]'),\n",
       " Text(0.7027863777089783, 0.02631578947368421, 'entropy = 0.0\\nsamples = 1\\nvalue = [1, 0]'),\n",
       " Text(0.7275541795665634, 0.02631578947368421, 'entropy = 0.0\\nsamples = 2\\nvalue = [0, 2]'),\n",
       " Text(0.7151702786377709, 0.18421052631578946, 'entropy = 0.0\\nsamples = 2\\nvalue = [2, 0]'),\n",
       " Text(0.7027863777089783, 0.34210526315789475, 'entropy = 0.0\\nsamples = 4\\nvalue = [0, 4]'),\n",
       " Text(0.739938080495356, 0.39473684210526316, 'X[2] <= 85.0\\nentropy = 0.469\\nsamples = 10\\nvalue = [9, 1]'),\n",
       " Text(0.7275541795665634, 0.34210526315789475, 'entropy = 0.0\\nsamples = 9\\nvalue = [9, 0]'),\n",
       " Text(0.7523219814241486, 0.34210526315789475, 'entropy = 0.0\\nsamples = 1\\nvalue = [0, 1]'),\n",
       " Text(0.7770897832817337, 0.5526315789473685, 'X[7] <= 59.5\\nentropy = 0.852\\nsamples = 18\\nvalue = [5, 13]'),\n",
       " Text(0.7523219814241486, 0.5, 'X[1] <= 128.5\\nentropy = 0.414\\nsamples = 12\\nvalue = [1, 11]'),\n",
       " Text(0.739938080495356, 0.4473684210526316, 'entropy = 0.0\\nsamples = 1\\nvalue = [1, 0]'),\n",
       " Text(0.7647058823529411, 0.4473684210526316, 'entropy = 0.0\\nsamples = 11\\nvalue = [0, 11]'),\n",
       " Text(0.8018575851393189, 0.5, 'X[6] <= 0.369\\nentropy = 0.918\\nsamples = 6\\nvalue = [4, 2]'),\n",
       " Text(0.7894736842105263, 0.4473684210526316, 'entropy = 0.0\\nsamples = 3\\nvalue = [3, 0]'),\n",
       " Text(0.8142414860681114, 0.4473684210526316, 'X[5] <= 30.0\\nentropy = 0.918\\nsamples = 3\\nvalue = [1, 2]'),\n",
       " Text(0.8018575851393189, 0.39473684210526316, 'entropy = 0.0\\nsamples = 1\\nvalue = [1, 0]'),\n",
       " Text(0.826625386996904, 0.39473684210526316, 'entropy = 0.0\\nsamples = 2\\nvalue = [0, 2]'),\n",
       " Text(0.7383900928792569, 0.6052631578947368, 'entropy = 0.0\\nsamples = 5\\nvalue = [0, 5]'),\n",
       " Text(0.7507739938080495, 0.6578947368421053, 'entropy = 0.0\\nsamples = 4\\nvalue = [4, 0]'),\n",
       " Text(0.8142414860681114, 0.7105263157894737, 'X[4] <= 277.5\\nentropy = 0.629\\nsamples = 19\\nvalue = [3, 16]'),\n",
       " Text(0.8018575851393189, 0.6578947368421053, 'X[6] <= 1.586\\nentropy = 0.323\\nsamples = 17\\nvalue = [1, 16]'),\n",
       " Text(0.7894736842105263, 0.6052631578947368, 'entropy = 0.0\\nsamples = 15\\nvalue = [0, 15]'),\n",
       " Text(0.8142414860681114, 0.6052631578947368, 'X[3] <= 17.5\\nentropy = 1.0\\nsamples = 2\\nvalue = [1, 1]'),\n",
       " Text(0.8018575851393189, 0.5526315789473685, 'entropy = 0.0\\nsamples = 1\\nvalue = [1, 0]'),\n",
       " Text(0.826625386996904, 0.5526315789473685, 'entropy = 0.0\\nsamples = 1\\nvalue = [0, 1]'),\n",
       " Text(0.826625386996904, 0.6578947368421053, 'entropy = 0.0\\nsamples = 2\\nvalue = [2, 0]'),\n",
       " Text(0.8761609907120743, 0.7631578947368421, 'X[6] <= 0.431\\nentropy = 0.516\\nsamples = 26\\nvalue = [3, 23]'),\n",
       " Text(0.8637770897832817, 0.7105263157894737, 'X[7] <= 37.0\\nentropy = 0.881\\nsamples = 10\\nvalue = [3, 7]'),\n",
       " Text(0.8513931888544891, 0.6578947368421053, 'entropy = 0.0\\nsamples = 1\\nvalue = [1, 0]'),\n",
       " Text(0.8761609907120743, 0.6578947368421053, 'X[1] <= 131.0\\nentropy = 0.764\\nsamples = 9\\nvalue = [2, 7]'),\n",
       " Text(0.8637770897832817, 0.6052631578947368, 'entropy = 0.0\\nsamples = 1\\nvalue = [1, 0]'),\n",
       " Text(0.8885448916408669, 0.6052631578947368, 'X[5] <= 31.85\\nentropy = 0.544\\nsamples = 8\\nvalue = [1, 7]'),\n",
       " Text(0.8761609907120743, 0.5526315789473685, 'X[5] <= 30.65\\nentropy = 0.918\\nsamples = 3\\nvalue = [1, 2]'),\n",
       " Text(0.8637770897832817, 0.5, 'entropy = 0.0\\nsamples = 2\\nvalue = [0, 2]'),\n",
       " Text(0.8885448916408669, 0.5, 'entropy = 0.0\\nsamples = 1\\nvalue = [1, 0]'),\n",
       " Text(0.9009287925696594, 0.5526315789473685, 'entropy = 0.0\\nsamples = 5\\nvalue = [0, 5]'),\n",
       " Text(0.8885448916408669, 0.7105263157894737, 'entropy = 0.0\\nsamples = 16\\nvalue = [0, 16]'),\n",
       " Text(0.9752321981424149, 0.868421052631579, 'X[6] <= 2.233\\nentropy = 0.533\\nsamples = 66\\nvalue = [8, 58]'),\n",
       " Text(0.9628482972136223, 0.8157894736842105, 'X[3] <= 32.5\\nentropy = 0.493\\nsamples = 65\\nvalue = [7, 58]'),\n",
       " Text(0.9504643962848297, 0.7631578947368421, 'X[1] <= 172.0\\nentropy = 0.669\\nsamples = 40\\nvalue = [7, 33]'),\n",
       " Text(0.9380804953560371, 0.7105263157894737, 'entropy = 0.0\\nsamples = 9\\nvalue = [0, 9]'),\n",
       " Text(0.9628482972136223, 0.7105263157894737, 'X[2] <= 107.0\\nentropy = 0.771\\nsamples = 31\\nvalue = [7, 24]'),\n",
       " Text(0.9504643962848297, 0.6578947368421053, 'X[6] <= 1.337\\nentropy = 0.722\\nsamples = 30\\nvalue = [6, 24]'),\n",
       " Text(0.9380804953560371, 0.6052631578947368, 'X[0] <= 9.5\\nentropy = 0.663\\nsamples = 29\\nvalue = [5, 24]'),\n",
       " Text(0.9256965944272446, 0.5526315789473685, 'X[7] <= 66.5\\nentropy = 0.592\\nsamples = 28\\nvalue = [4, 24]'),\n",
       " Text(0.913312693498452, 0.5, 'X[4] <= 35.0\\nentropy = 0.503\\nsamples = 27\\nvalue = [3, 24]'),\n",
       " Text(0.9009287925696594, 0.4473684210526316, 'entropy = 0.0\\nsamples = 12\\nvalue = [0, 12]'),\n",
       " Text(0.9256965944272446, 0.4473684210526316, 'X[6] <= 0.307\\nentropy = 0.722\\nsamples = 15\\nvalue = [3, 12]'),\n",
       " Text(0.913312693498452, 0.39473684210526316, 'entropy = 0.0\\nsamples = 2\\nvalue = [2, 0]'),\n",
       " Text(0.9380804953560371, 0.39473684210526316, 'X[5] <= 45.05\\nentropy = 0.391\\nsamples = 13\\nvalue = [1, 12]'),\n",
       " Text(0.9256965944272446, 0.34210526315789475, 'entropy = 0.0\\nsamples = 12\\nvalue = [0, 12]'),\n",
       " Text(0.9504643962848297, 0.34210526315789475, 'entropy = 0.0\\nsamples = 1\\nvalue = [1, 0]'),\n",
       " Text(0.9380804953560371, 0.5, 'entropy = 0.0\\nsamples = 1\\nvalue = [1, 0]'),\n",
       " Text(0.9504643962848297, 0.5526315789473685, 'entropy = 0.0\\nsamples = 1\\nvalue = [1, 0]'),\n",
       " Text(0.9628482972136223, 0.6052631578947368, 'entropy = 0.0\\nsamples = 1\\nvalue = [1, 0]'),\n",
       " Text(0.9752321981424149, 0.6578947368421053, 'entropy = 0.0\\nsamples = 1\\nvalue = [1, 0]'),\n",
       " Text(0.9752321981424149, 0.7631578947368421, 'entropy = 0.0\\nsamples = 25\\nvalue = [0, 25]'),\n",
       " Text(0.9876160990712074, 0.8157894736842105, 'entropy = 0.0\\nsamples = 1\\nvalue = [1, 0]')]"
      ]
     },
     "execution_count": 31,
     "metadata": {},
     "output_type": "execute_result"
    },
    {
     "data": {
      "image/png": "[encoded data removed]",
      "text/plain": [
       "<Figure size 640x480 with 1 Axes>"
      ]
     },
     "metadata": {},
     "output_type": "display_data"
    }
   ],
   "source": [
    "from sklearn import tree\n",
    "tree.plot_tree(dt_clf)\n"
   ]
  },
  {
   "cell_type": "code",
   "execution_count": null,
   "id": "0966c2b5",
   "metadata": {},
   "outputs": [],
   "source": []
  }
 ],
 "metadata": {
  "kernelspec": {
   "display_name": "Python 3 (ipykernel)",
   "language": "python",
   "name": "python3"
  },
  "language_info": {
   "codemirror_mode": {
    "name": "ipython",
    "version": 3
   },
   "file_extension": ".py",
   "mimetype": "text/x-python",
   "name": "python",
   "nbconvert_exporter": "python",
   "pygments_lexer": "ipython3",
   "version": "3.11.4"
  }
 },
 "nbformat": 4,
 "nbformat_minor": 5
}
